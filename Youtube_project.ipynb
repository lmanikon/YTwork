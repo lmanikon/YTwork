{
  "nbformat": 4,
  "nbformat_minor": 0,
  "metadata": {
    "colab": {
      "name": "Youtube project.ipynb",
      "provenance": []
    },
    "kernelspec": {
      "name": "python3",
      "display_name": "Python 3"
    }
  },
  "cells": [
    {
      "cell_type": "markdown",
      "metadata": {
        "id": "-n0AQbx3r9jR",
        "colab_type": "text"
      },
      "source": [
        "# **Data Extraction** "
      ]
    },
    {
      "cell_type": "code",
      "metadata": {
        "id": "HmX6XioBp5n6",
        "colab_type": "code",
        "colab": {
          "base_uri": "https://localhost:8080/",
          "height": 190
        },
        "outputId": "91b05e63-74dc-4777-f68b-b93f8566a1eb"
      },
      "source": [
        "pip install youtube_transcript_api"
      ],
      "execution_count": 1,
      "outputs": [
        {
          "output_type": "stream",
          "text": [
            "Collecting youtube_transcript_api\n",
            "  Downloading https://files.pythonhosted.org/packages/21/81/c4ae5534b113f4938b482f360babbbe6fda550441a4af8e1007dba518586/youtube_transcript_api-0.3.1-py3-none-any.whl\n",
            "Requirement already satisfied: requests in /usr/local/lib/python3.6/dist-packages (from youtube_transcript_api) (2.23.0)\n",
            "Requirement already satisfied: certifi>=2017.4.17 in /usr/local/lib/python3.6/dist-packages (from requests->youtube_transcript_api) (2020.4.5.1)\n",
            "Requirement already satisfied: chardet<4,>=3.0.2 in /usr/local/lib/python3.6/dist-packages (from requests->youtube_transcript_api) (3.0.4)\n",
            "Requirement already satisfied: idna<3,>=2.5 in /usr/local/lib/python3.6/dist-packages (from requests->youtube_transcript_api) (2.9)\n",
            "Requirement already satisfied: urllib3!=1.25.0,!=1.25.1,<1.26,>=1.21.1 in /usr/local/lib/python3.6/dist-packages (from requests->youtube_transcript_api) (1.24.3)\n",
            "Installing collected packages: youtube-transcript-api\n",
            "Successfully installed youtube-transcript-api-0.3.1\n"
          ],
          "name": "stdout"
        }
      ]
    },
    {
      "cell_type": "markdown",
      "metadata": {
        "id": "yVJJ3LI9o_BK",
        "colab_type": "text"
      },
      "source": [
        "**Scraping the Youtube transcript**"
      ]
    },
    {
      "cell_type": "code",
      "metadata": {
        "id": "i0iS01y_C03g",
        "colab_type": "code",
        "colab": {}
      },
      "source": [
        "import pandas as pd"
      ],
      "execution_count": 2,
      "outputs": []
    },
    {
      "cell_type": "code",
      "metadata": {
        "id": "LMKk_z0QrUnQ",
        "colab_type": "code",
        "colab": {}
      },
      "source": [
        "from youtube_transcript_api import YouTubeTranscriptApi\n",
        "trans=YouTubeTranscriptApi.get_transcript(\"aircAruvnKk&feature=youtu.be\")"
      ],
      "execution_count": 3,
      "outputs": []
    },
    {
      "cell_type": "code",
      "metadata": {
        "id": "KIhufzfVCEL3",
        "colab_type": "code",
        "colab": {}
      },
      "source": [
        "trans"
      ],
      "execution_count": null,
      "outputs": []
    },
    {
      "cell_type": "code",
      "metadata": {
        "id": "fq-6gndnC4Yc",
        "colab_type": "code",
        "colab": {}
      },
      "source": [
        "df = pd.DataFrame(trans) \n",
        "df.head(20)"
      ],
      "execution_count": null,
      "outputs": []
    },
    {
      "cell_type": "markdown",
      "metadata": {
        "id": "EyjmbIWpvHNG",
        "colab_type": "text"
      },
      "source": [
        "**Scraping other info** "
      ]
    },
    {
      "cell_type": "code",
      "metadata": {
        "id": "zmZYxfU0vLpI",
        "colab_type": "code",
        "colab": {}
      },
      "source": [
        "import requests\n",
        "from bs4 import BeautifulSoup as bs"
      ],
      "execution_count": 6,
      "outputs": []
    },
    {
      "cell_type": "code",
      "metadata": {
        "id": "OFMlYAGAwhXy",
        "colab_type": "code",
        "colab": {
          "base_uri": "https://localhost:8080/",
          "height": 34
        },
        "outputId": "e11fd4f7-dd81-46d9-c0ad-336140446a0e"
      },
      "source": [
        "# sample youtube video url\n",
        "video_url = \"https://www.youtube.com/watch?v=aircAruvnKk&feature=youtu.be\"\n",
        "# get the html content\n",
        "content = requests.get(video_url)\n",
        "# create bs object to parse HTML\n",
        "soup = bs(content.content, \"html.parser\")\n",
        "# write all HTML code into a file\n",
        "open(\"video.html\", \"w\", encoding='utf8').write(content.text)"
      ],
      "execution_count": 9,
      "outputs": [
        {
          "output_type": "execute_result",
          "data": {
            "text/plain": [
              "384534"
            ]
          },
          "metadata": {
            "tags": []
          },
          "execution_count": 9
        }
      ]
    },
    {
      "cell_type": "code",
      "metadata": {
        "id": "5T1CNhVyxJjm",
        "colab_type": "code",
        "colab": {
          "base_uri": "https://localhost:8080/",
          "height": 34
        },
        "outputId": "c692151f-dcb6-4b35-d1a3-96239d6f0008"
      },
      "source": [
        "soup.find(\"div\", attrs={'class': 'watch-view-count'}).text\n"
      ],
      "execution_count": 10,
      "outputs": [
        {
          "output_type": "execute_result",
          "data": {
            "text/plain": [
              "'7,167,054 views'"
            ]
          },
          "metadata": {
            "tags": []
          },
          "execution_count": 10
        }
      ]
    },
    {
      "cell_type": "code",
      "metadata": {
        "id": "AYRHyJ3NPCV5",
        "colab_type": "code",
        "colab": {}
      },
      "source": [
        " result = {}"
      ],
      "execution_count": 11,
      "outputs": []
    },
    {
      "cell_type": "code",
      "metadata": {
        "id": "T-OGso8ovZ5j",
        "colab_type": "code",
        "colab": {
          "base_uri": "https://localhost:8080/",
          "height": 34
        },
        "outputId": "e5217335-0afe-4889-e816-c003cae650c4"
      },
      "source": [
        "  # video title\n",
        "result['title'] = soup.find(\"span\", attrs={\"class\": \"watch-title\"}).text.strip()\n",
        "result['title']"
      ],
      "execution_count": 12,
      "outputs": [
        {
          "output_type": "execute_result",
          "data": {
            "text/plain": [
              "'But what is a Neural Network? | Deep learning, chapter 1'"
            ]
          },
          "metadata": {
            "tags": []
          },
          "execution_count": 12
        }
      ]
    },
    {
      "cell_type": "code",
      "metadata": {
        "id": "Krj5xU74vZ_K",
        "colab_type": "code",
        "colab": {
          "base_uri": "https://localhost:8080/",
          "height": 34
        },
        "outputId": "b8a604a9-71de-4213-d159-3ebacc1c4bd5"
      },
      "source": [
        " # video views (converted to integer)\n",
        "result['views'] = int(soup.find(\"div\", attrs={\"class\": \"watch-view-count\"}).text[:-6].replace(\",\", \"\"))\n",
        "result['views']"
      ],
      "execution_count": 13,
      "outputs": [
        {
          "output_type": "execute_result",
          "data": {
            "text/plain": [
              "7167054"
            ]
          },
          "metadata": {
            "tags": []
          },
          "execution_count": 13
        }
      ]
    },
    {
      "cell_type": "code",
      "metadata": {
        "id": "mHlqSH3OvaC3",
        "colab_type": "code",
        "colab": {
          "base_uri": "https://localhost:8080/",
          "height": 54
        },
        "outputId": "854426d6-c4e2-4fce-8627-8b3926fa7230"
      },
      "source": [
        " # video description\n",
        "result['description'] = soup.find(\"p\", attrs={\"id\": \"eow-description\"}).text\n",
        "result['description']"
      ],
      "execution_count": 14,
      "outputs": [
        {
          "output_type": "execute_result",
          "data": {
            "text/plain": [
              "'Home page: https://www.3blue1brown.com/Brought to you by you: http://3b1b.co/nn1-thanksAdditional funding provided by Amplify PartnersFull playlist: http://3b1b.co/neural-networksTypo correction: At 14:45, the last index on the bias vector is n, when it\\'s supposed to in fact be a k.  Thanks for the sharp eyes that caught that!For those who want to learn more, I highly recommend the book by Michael Nielsen introducing neural networks and deep learning: https://goo.gl/ZmczdyThere are two neat things about this book.  First, it\\'s available for free, so consider joining me in making a donation Nielsen\\'s way if you get something out of it.  And second, it\\'s centered around walking through some code and data which you can download yourself, and which covers the same example that I introduce in this video.  Yay for active learning!https://github.com/mnielsen/neural-ne...I also highly recommend Chris Olah\\'s blog: http://colah.github.io/For more videos, Welch Labs also has some great series on machine learning: https://youtu.be/i8D90DkCLhIhttps://youtu.be/bxe2T-V8XRsFor those of you looking to go *even* deeper, check out the text \"Deep Learning\" by Goodfellow, Bengio, and Courville.  Also, the publication Distill is just utterly beautiful: https://distill.pub/Lion photo by Kevin Pluck------------------Animations largely made using manim, a scrappy open source python library.  https://github.com/3b1b/manimIf you want to check it out, I feel compelled to warn you that it\\'s not the most well-documented tool, and has many other quirks you might expect in a library someone wrote with only their own use in mind.Music by Vincent Rubinetti.Download the music on Bandcamp:https://vincerubinetti.bandcamp.com/a...Stream the music on Spotify:https://open.spotify.com/album/1dVyjw...If you want to contribute translated subtitles or to help review those that have already been made by others and need approval, you can click the gear icon in the video and go to subtitles/cc, then \"add subtitles/cc\".  I really appreciate those who do this, as it helps make the lessons accessible to more people.------------------3blue1brown is a channel about animating math, in all senses of the word animate.  And you know the drill with YouTube, if you want to stay posted on new videos, subscribe, and click the bell to receive notifications (if you\\'re into that).If you are new to this channel and want to see more, a good place to start is this playlist: http://3b1b.co/recommendedVarious social media stuffs:Website: https://www.3blue1brown.comTwitter: https://twitter.com/3Blue1BrownPatreon: https://patreon.com/3blue1brownFacebook: https://www.facebook.com/3blue1brownReddit: https://www.reddit.com/r/3Blue1Brown'"
            ]
          },
          "metadata": {
            "tags": []
          },
          "execution_count": 14
        }
      ]
    },
    {
      "cell_type": "code",
      "metadata": {
        "id": "oOrR7EfnvaJN",
        "colab_type": "code",
        "colab": {}
      },
      "source": [
        "# number of likes as integer\n",
        "result['likes'] = int(soup.find(\"button\", attrs={\"title\": \"I like this\"}).text.replace(\",\", \"\"))\n",
        "# number of dislikes as integer\n",
        "result['dislikes'] = int(soup.find(\"button\", attrs={\"title\": \"I dislike this\"}).text.replace(\",\", \"\"))"
      ],
      "execution_count": 15,
      "outputs": []
    },
    {
      "cell_type": "code",
      "metadata": {
        "id": "j13f7UFYvaMi",
        "colab_type": "code",
        "colab": {
          "base_uri": "https://localhost:8080/",
          "height": 51
        },
        "outputId": "837cace9-0e06-4200-b4af-0311a4bf2c6b"
      },
      "source": [
        "print(\"the numer of upvote is\", (result['likes']))\n",
        "print(\"the numer of downvotes is\", (result['dislikes']))"
      ],
      "execution_count": null,
      "outputs": [
        {
          "output_type": "stream",
          "text": [
            "the numer of upvote is 181857\n",
            "the numer of downvotes is 1653\n"
          ],
          "name": "stdout"
        }
      ]
    },
    {
      "cell_type": "code",
      "metadata": {
        "id": "Ss2cOwLbvaGL",
        "colab_type": "code",
        "colab": {}
      },
      "source": [
        "soup"
      ],
      "execution_count": null,
      "outputs": []
    },
    {
      "cell_type": "code",
      "metadata": {
        "id": "NMFeSMbr130t",
        "colab_type": "code",
        "colab": {
          "base_uri": "https://localhost:8080/",
          "height": 139
        },
        "outputId": "a3633ca6-9d6a-4062-eab4-c84ecef02485"
      },
      "source": [
        "pip install selenium"
      ],
      "execution_count": 19,
      "outputs": [
        {
          "output_type": "stream",
          "text": [
            "Collecting selenium\n",
            "\u001b[?25l  Downloading https://files.pythonhosted.org/packages/80/d6/4294f0b4bce4de0abf13e17190289f9d0613b0a44e5dd6a7f5ca98459853/selenium-3.141.0-py2.py3-none-any.whl (904kB)\n",
            "\r\u001b[K     |▍                               | 10kB 20.9MB/s eta 0:00:01\r\u001b[K     |▊                               | 20kB 6.6MB/s eta 0:00:01\r\u001b[K     |█                               | 30kB 7.9MB/s eta 0:00:01\r\u001b[K     |█▌                              | 40kB 8.5MB/s eta 0:00:01\r\u001b[K     |█▉                              | 51kB 7.0MB/s eta 0:00:01\r\u001b[K     |██▏                             | 61kB 7.3MB/s eta 0:00:01\r\u001b[K     |██▌                             | 71kB 7.8MB/s eta 0:00:01\r\u001b[K     |███                             | 81kB 8.4MB/s eta 0:00:01\r\u001b[K     |███▎                            | 92kB 7.9MB/s eta 0:00:01\r\u001b[K     |███▋                            | 102kB 8.2MB/s eta 0:00:01\r\u001b[K     |████                            | 112kB 8.2MB/s eta 0:00:01\r\u001b[K     |████▍                           | 122kB 8.2MB/s eta 0:00:01\r\u001b[K     |████▊                           | 133kB 8.2MB/s eta 0:00:01\r\u001b[K     |█████                           | 143kB 8.2MB/s eta 0:00:01\r\u001b[K     |█████▍                          | 153kB 8.2MB/s eta 0:00:01\r\u001b[K     |█████▉                          | 163kB 8.2MB/s eta 0:00:01\r\u001b[K     |██████▏                         | 174kB 8.2MB/s eta 0:00:01\r\u001b[K     |██████▌                         | 184kB 8.2MB/s eta 0:00:01\r\u001b[K     |██████▉                         | 194kB 8.2MB/s eta 0:00:01\r\u001b[K     |███████▎                        | 204kB 8.2MB/s eta 0:00:01\r\u001b[K     |███████▋                        | 215kB 8.2MB/s eta 0:00:01\r\u001b[K     |████████                        | 225kB 8.2MB/s eta 0:00:01\r\u001b[K     |████████▎                       | 235kB 8.2MB/s eta 0:00:01\r\u001b[K     |████████▊                       | 245kB 8.2MB/s eta 0:00:01\r\u001b[K     |█████████                       | 256kB 8.2MB/s eta 0:00:01\r\u001b[K     |█████████▍                      | 266kB 8.2MB/s eta 0:00:01\r\u001b[K     |█████████▉                      | 276kB 8.2MB/s eta 0:00:01\r\u001b[K     |██████████▏                     | 286kB 8.2MB/s eta 0:00:01\r\u001b[K     |██████████▌                     | 296kB 8.2MB/s eta 0:00:01\r\u001b[K     |██████████▉                     | 307kB 8.2MB/s eta 0:00:01\r\u001b[K     |███████████▎                    | 317kB 8.2MB/s eta 0:00:01\r\u001b[K     |███████████▋                    | 327kB 8.2MB/s eta 0:00:01\r\u001b[K     |████████████                    | 337kB 8.2MB/s eta 0:00:01\r\u001b[K     |████████████▎                   | 348kB 8.2MB/s eta 0:00:01\r\u001b[K     |████████████▊                   | 358kB 8.2MB/s eta 0:00:01\r\u001b[K     |█████████████                   | 368kB 8.2MB/s eta 0:00:01\r\u001b[K     |█████████████▍                  | 378kB 8.2MB/s eta 0:00:01\r\u001b[K     |█████████████▊                  | 389kB 8.2MB/s eta 0:00:01\r\u001b[K     |██████████████▏                 | 399kB 8.2MB/s eta 0:00:01\r\u001b[K     |██████████████▌                 | 409kB 8.2MB/s eta 0:00:01\r\u001b[K     |██████████████▉                 | 419kB 8.2MB/s eta 0:00:01\r\u001b[K     |███████████████▏                | 430kB 8.2MB/s eta 0:00:01\r\u001b[K     |███████████████▋                | 440kB 8.2MB/s eta 0:00:01\r\u001b[K     |████████████████                | 450kB 8.2MB/s eta 0:00:01\r\u001b[K     |████████████████▎               | 460kB 8.2MB/s eta 0:00:01\r\u001b[K     |████████████████▋               | 471kB 8.2MB/s eta 0:00:01\r\u001b[K     |█████████████████               | 481kB 8.2MB/s eta 0:00:01\r\u001b[K     |█████████████████▍              | 491kB 8.2MB/s eta 0:00:01\r\u001b[K     |█████████████████▊              | 501kB 8.2MB/s eta 0:00:01\r\u001b[K     |██████████████████▏             | 512kB 8.2MB/s eta 0:00:01\r\u001b[K     |██████████████████▌             | 522kB 8.2MB/s eta 0:00:01\r\u001b[K     |██████████████████▉             | 532kB 8.2MB/s eta 0:00:01\r\u001b[K     |███████████████████▏            | 542kB 8.2MB/s eta 0:00:01\r\u001b[K     |███████████████████▋            | 552kB 8.2MB/s eta 0:00:01\r\u001b[K     |████████████████████            | 563kB 8.2MB/s eta 0:00:01\r\u001b[K     |████████████████████▎           | 573kB 8.2MB/s eta 0:00:01\r\u001b[K     |████████████████████▋           | 583kB 8.2MB/s eta 0:00:01\r\u001b[K     |█████████████████████           | 593kB 8.2MB/s eta 0:00:01\r\u001b[K     |█████████████████████▍          | 604kB 8.2MB/s eta 0:00:01\r\u001b[K     |█████████████████████▊          | 614kB 8.2MB/s eta 0:00:01\r\u001b[K     |██████████████████████          | 624kB 8.2MB/s eta 0:00:01\r\u001b[K     |██████████████████████▌         | 634kB 8.2MB/s eta 0:00:01\r\u001b[K     |██████████████████████▉         | 645kB 8.2MB/s eta 0:00:01\r\u001b[K     |███████████████████████▏        | 655kB 8.2MB/s eta 0:00:01\r\u001b[K     |███████████████████████▌        | 665kB 8.2MB/s eta 0:00:01\r\u001b[K     |████████████████████████        | 675kB 8.2MB/s eta 0:00:01\r\u001b[K     |████████████████████████▎       | 686kB 8.2MB/s eta 0:00:01\r\u001b[K     |████████████████████████▋       | 696kB 8.2MB/s eta 0:00:01\r\u001b[K     |█████████████████████████       | 706kB 8.2MB/s eta 0:00:01\r\u001b[K     |█████████████████████████▍      | 716kB 8.2MB/s eta 0:00:01\r\u001b[K     |█████████████████████████▊      | 727kB 8.2MB/s eta 0:00:01\r\u001b[K     |██████████████████████████      | 737kB 8.2MB/s eta 0:00:01\r\u001b[K     |██████████████████████████▍     | 747kB 8.2MB/s eta 0:00:01\r\u001b[K     |██████████████████████████▉     | 757kB 8.2MB/s eta 0:00:01\r\u001b[K     |███████████████████████████▏    | 768kB 8.2MB/s eta 0:00:01\r\u001b[K     |███████████████████████████▌    | 778kB 8.2MB/s eta 0:00:01\r\u001b[K     |████████████████████████████    | 788kB 8.2MB/s eta 0:00:01\r\u001b[K     |████████████████████████████▎   | 798kB 8.2MB/s eta 0:00:01\r\u001b[K     |████████████████████████████▋   | 808kB 8.2MB/s eta 0:00:01\r\u001b[K     |█████████████████████████████   | 819kB 8.2MB/s eta 0:00:01\r\u001b[K     |█████████████████████████████▍  | 829kB 8.2MB/s eta 0:00:01\r\u001b[K     |█████████████████████████████▊  | 839kB 8.2MB/s eta 0:00:01\r\u001b[K     |██████████████████████████████  | 849kB 8.2MB/s eta 0:00:01\r\u001b[K     |██████████████████████████████▍ | 860kB 8.2MB/s eta 0:00:01\r\u001b[K     |██████████████████████████████▉ | 870kB 8.2MB/s eta 0:00:01\r\u001b[K     |███████████████████████████████▏| 880kB 8.2MB/s eta 0:00:01\r\u001b[K     |███████████████████████████████▌| 890kB 8.2MB/s eta 0:00:01\r\u001b[K     |███████████████████████████████▉| 901kB 8.2MB/s eta 0:00:01\r\u001b[K     |████████████████████████████████| 911kB 8.2MB/s \n",
            "\u001b[?25hRequirement already satisfied: urllib3 in /usr/local/lib/python3.6/dist-packages (from selenium) (1.24.3)\n",
            "Installing collected packages: selenium\n",
            "Successfully installed selenium-3.141.0\n"
          ],
          "name": "stdout"
        }
      ]
    },
    {
      "cell_type": "code",
      "metadata": {
        "id": "0giL1tg41zIS",
        "colab_type": "code",
        "colab": {}
      },
      "source": [
        "from selenium import webdriver\n",
        "import time\n",
        "import os "
      ],
      "execution_count": 27,
      "outputs": []
    },
    {
      "cell_type": "code",
      "metadata": {
        "id": "S3gOQ0fM171B",
        "colab_type": "code",
        "colab": {
          "base_uri": "https://localhost:8080/",
          "height": 446
        },
        "outputId": "776f7efe-a93d-4b27-e557-7e38ab985c4d"
      },
      "source": [
        "\n",
        "from selenium.webdriver import Chrome\n",
        "from selenium.webdriver.common.by import By\n",
        "from selenium.webdriver.common.keys import Keys\n",
        "from selenium.webdriver.support.ui import WebDriverWait\n",
        "from selenium.webdriver.support import expected_conditions as EC\n",
        "from selenium import webdriver\n",
        "\n",
        "chromedriver = \"https://drive.google.com/drive/my-drive\"\n",
        "os.environ[\"webdriver.chrome.driver\"] = chromedriver\n",
        "driver = webdriver.Chrome(chromedriver)\n",
        "driver.get(\"https://www.youtube.com/watch?v=aircAruvnKk\")\n",
        "driver.quit()"
      ],
      "execution_count": 29,
      "outputs": [
        {
          "output_type": "error",
          "ename": "WebDriverException",
          "evalue": "ignored",
          "traceback": [
            "\u001b[0;31m---------------------------------------------------------------------------\u001b[0m",
            "\u001b[0;31mFileNotFoundError\u001b[0m                         Traceback (most recent call last)",
            "\u001b[0;32m/usr/local/lib/python3.6/dist-packages/selenium/webdriver/common/service.py\u001b[0m in \u001b[0;36mstart\u001b[0;34m(self)\u001b[0m\n\u001b[1;32m     75\u001b[0m                                             \u001b[0mstderr\u001b[0m\u001b[0;34m=\u001b[0m\u001b[0mself\u001b[0m\u001b[0;34m.\u001b[0m\u001b[0mlog_file\u001b[0m\u001b[0;34m,\u001b[0m\u001b[0;34m\u001b[0m\u001b[0;34m\u001b[0m\u001b[0m\n\u001b[0;32m---> 76\u001b[0;31m                                             stdin=PIPE)\n\u001b[0m\u001b[1;32m     77\u001b[0m         \u001b[0;32mexcept\u001b[0m \u001b[0mTypeError\u001b[0m\u001b[0;34m:\u001b[0m\u001b[0;34m\u001b[0m\u001b[0;34m\u001b[0m\u001b[0m\n",
            "\u001b[0;32m/usr/lib/python3.6/subprocess.py\u001b[0m in \u001b[0;36m__init__\u001b[0;34m(self, args, bufsize, executable, stdin, stdout, stderr, preexec_fn, close_fds, shell, cwd, env, universal_newlines, startupinfo, creationflags, restore_signals, start_new_session, pass_fds, encoding, errors)\u001b[0m\n\u001b[1;32m    728\u001b[0m                                 \u001b[0merrread\u001b[0m\u001b[0;34m,\u001b[0m \u001b[0merrwrite\u001b[0m\u001b[0;34m,\u001b[0m\u001b[0;34m\u001b[0m\u001b[0;34m\u001b[0m\u001b[0m\n\u001b[0;32m--> 729\u001b[0;31m                                 restore_signals, start_new_session)\n\u001b[0m\u001b[1;32m    730\u001b[0m         \u001b[0;32mexcept\u001b[0m\u001b[0;34m:\u001b[0m\u001b[0;34m\u001b[0m\u001b[0;34m\u001b[0m\u001b[0m\n",
            "\u001b[0;32m/usr/lib/python3.6/subprocess.py\u001b[0m in \u001b[0;36m_execute_child\u001b[0;34m(self, args, executable, preexec_fn, close_fds, pass_fds, cwd, env, startupinfo, creationflags, shell, p2cread, p2cwrite, c2pread, c2pwrite, errread, errwrite, restore_signals, start_new_session)\u001b[0m\n\u001b[1;32m   1363\u001b[0m                             \u001b[0merr_msg\u001b[0m \u001b[0;34m+=\u001b[0m \u001b[0;34m': '\u001b[0m \u001b[0;34m+\u001b[0m \u001b[0mrepr\u001b[0m\u001b[0;34m(\u001b[0m\u001b[0merr_filename\u001b[0m\u001b[0;34m)\u001b[0m\u001b[0;34m\u001b[0m\u001b[0;34m\u001b[0m\u001b[0m\n\u001b[0;32m-> 1364\u001b[0;31m                     \u001b[0;32mraise\u001b[0m \u001b[0mchild_exception_type\u001b[0m\u001b[0;34m(\u001b[0m\u001b[0merrno_num\u001b[0m\u001b[0;34m,\u001b[0m \u001b[0merr_msg\u001b[0m\u001b[0;34m,\u001b[0m \u001b[0merr_filename\u001b[0m\u001b[0;34m)\u001b[0m\u001b[0;34m\u001b[0m\u001b[0;34m\u001b[0m\u001b[0m\n\u001b[0m\u001b[1;32m   1365\u001b[0m                 \u001b[0;32mraise\u001b[0m \u001b[0mchild_exception_type\u001b[0m\u001b[0;34m(\u001b[0m\u001b[0merr_msg\u001b[0m\u001b[0;34m)\u001b[0m\u001b[0;34m\u001b[0m\u001b[0;34m\u001b[0m\u001b[0m\n",
            "\u001b[0;31mFileNotFoundError\u001b[0m: [Errno 2] No such file or directory: 'https://drive.google.com/drive/my-drive': 'https://drive.google.com/drive/my-drive'",
            "\nDuring handling of the above exception, another exception occurred:\n",
            "\u001b[0;31mWebDriverException\u001b[0m                        Traceback (most recent call last)",
            "\u001b[0;32m<ipython-input-29-7299c296b085>\u001b[0m in \u001b[0;36m<module>\u001b[0;34m()\u001b[0m\n\u001b[1;32m      9\u001b[0m \u001b[0mchromedriver\u001b[0m \u001b[0;34m=\u001b[0m \u001b[0;34m\"https://drive.google.com/drive/my-drive\"\u001b[0m\u001b[0;34m\u001b[0m\u001b[0;34m\u001b[0m\u001b[0m\n\u001b[1;32m     10\u001b[0m \u001b[0mos\u001b[0m\u001b[0;34m.\u001b[0m\u001b[0menviron\u001b[0m\u001b[0;34m[\u001b[0m\u001b[0;34m\"webdriver.chrome.driver\"\u001b[0m\u001b[0;34m]\u001b[0m \u001b[0;34m=\u001b[0m \u001b[0mchromedriver\u001b[0m\u001b[0;34m\u001b[0m\u001b[0;34m\u001b[0m\u001b[0m\n\u001b[0;32m---> 11\u001b[0;31m \u001b[0mdriver\u001b[0m \u001b[0;34m=\u001b[0m \u001b[0mwebdriver\u001b[0m\u001b[0;34m.\u001b[0m\u001b[0mChrome\u001b[0m\u001b[0;34m(\u001b[0m\u001b[0mchromedriver\u001b[0m\u001b[0;34m)\u001b[0m\u001b[0;34m\u001b[0m\u001b[0;34m\u001b[0m\u001b[0m\n\u001b[0m\u001b[1;32m     12\u001b[0m \u001b[0mdriver\u001b[0m\u001b[0;34m.\u001b[0m\u001b[0mget\u001b[0m\u001b[0;34m(\u001b[0m\u001b[0;34m\"https://www.youtube.com/watch?v=aircAruvnKk\"\u001b[0m\u001b[0;34m)\u001b[0m\u001b[0;34m\u001b[0m\u001b[0;34m\u001b[0m\u001b[0m\n\u001b[1;32m     13\u001b[0m \u001b[0mdriver\u001b[0m\u001b[0;34m.\u001b[0m\u001b[0mquit\u001b[0m\u001b[0;34m(\u001b[0m\u001b[0;34m)\u001b[0m\u001b[0;34m\u001b[0m\u001b[0;34m\u001b[0m\u001b[0m\n",
            "\u001b[0;32m/usr/local/lib/python3.6/dist-packages/selenium/webdriver/chrome/webdriver.py\u001b[0m in \u001b[0;36m__init__\u001b[0;34m(self, executable_path, port, options, service_args, desired_capabilities, service_log_path, chrome_options, keep_alive)\u001b[0m\n\u001b[1;32m     71\u001b[0m             \u001b[0mservice_args\u001b[0m\u001b[0;34m=\u001b[0m\u001b[0mservice_args\u001b[0m\u001b[0;34m,\u001b[0m\u001b[0;34m\u001b[0m\u001b[0;34m\u001b[0m\u001b[0m\n\u001b[1;32m     72\u001b[0m             log_path=service_log_path)\n\u001b[0;32m---> 73\u001b[0;31m         \u001b[0mself\u001b[0m\u001b[0;34m.\u001b[0m\u001b[0mservice\u001b[0m\u001b[0;34m.\u001b[0m\u001b[0mstart\u001b[0m\u001b[0;34m(\u001b[0m\u001b[0;34m)\u001b[0m\u001b[0;34m\u001b[0m\u001b[0;34m\u001b[0m\u001b[0m\n\u001b[0m\u001b[1;32m     74\u001b[0m \u001b[0;34m\u001b[0m\u001b[0m\n\u001b[1;32m     75\u001b[0m         \u001b[0;32mtry\u001b[0m\u001b[0;34m:\u001b[0m\u001b[0;34m\u001b[0m\u001b[0;34m\u001b[0m\u001b[0m\n",
            "\u001b[0;32m/usr/local/lib/python3.6/dist-packages/selenium/webdriver/common/service.py\u001b[0m in \u001b[0;36mstart\u001b[0;34m(self)\u001b[0m\n\u001b[1;32m     81\u001b[0m                 raise WebDriverException(\n\u001b[1;32m     82\u001b[0m                     \"'%s' executable needs to be in PATH. %s\" % (\n\u001b[0;32m---> 83\u001b[0;31m                         os.path.basename(self.path), self.start_error_message)\n\u001b[0m\u001b[1;32m     84\u001b[0m                 )\n\u001b[1;32m     85\u001b[0m             \u001b[0;32melif\u001b[0m \u001b[0merr\u001b[0m\u001b[0;34m.\u001b[0m\u001b[0merrno\u001b[0m \u001b[0;34m==\u001b[0m \u001b[0merrno\u001b[0m\u001b[0;34m.\u001b[0m\u001b[0mEACCES\u001b[0m\u001b[0;34m:\u001b[0m\u001b[0;34m\u001b[0m\u001b[0;34m\u001b[0m\u001b[0m\n",
            "\u001b[0;31mWebDriverException\u001b[0m: Message: 'my-drive' executable needs to be in PATH. Please see https://sites.google.com/a/chromium.org/chromedriver/home\n"
          ]
        }
      ]
    },
    {
      "cell_type": "markdown",
      "metadata": {
        "id": "yH9h2T0Q6bo6",
        "colab_type": "text"
      },
      "source": [
        "**Scraping the Comments**"
      ]
    },
    {
      "cell_type": "code",
      "metadata": {
        "id": "RMN4fVWP6a2X",
        "colab_type": "code",
        "colab": {
          "base_uri": "https://localhost:8080/",
          "height": 224
        },
        "outputId": "8773e253-f6be-474d-fdd9-2b49bbf4cb29"
      },
      "source": [
        "pip install google-api-python-client"
      ],
      "execution_count": 1,
      "outputs": [
        {
          "output_type": "stream",
          "text": [
            "Requirement already satisfied: google-api-python-client in /usr/local/lib/python3.6/dist-packages (1.7.12)\n",
            "Requirement already satisfied: six<2dev,>=1.6.1 in /usr/local/lib/python3.6/dist-packages (from google-api-python-client) (1.12.0)\n",
            "Requirement already satisfied: uritemplate<4dev,>=3.0.0 in /usr/local/lib/python3.6/dist-packages (from google-api-python-client) (3.0.1)\n",
            "Requirement already satisfied: google-auth>=1.4.1 in /usr/local/lib/python3.6/dist-packages (from google-api-python-client) (1.17.2)\n",
            "Requirement already satisfied: google-auth-httplib2>=0.0.3 in /usr/local/lib/python3.6/dist-packages (from google-api-python-client) (0.0.3)\n",
            "Requirement already satisfied: httplib2<1dev,>=0.17.0 in /usr/local/lib/python3.6/dist-packages (from google-api-python-client) (0.17.4)\n",
            "Requirement already satisfied: rsa<5,>=3.1.4; python_version >= \"3\" in /usr/local/lib/python3.6/dist-packages (from google-auth>=1.4.1->google-api-python-client) (4.6)\n",
            "Requirement already satisfied: pyasn1-modules>=0.2.1 in /usr/local/lib/python3.6/dist-packages (from google-auth>=1.4.1->google-api-python-client) (0.2.8)\n",
            "Requirement already satisfied: cachetools<5.0,>=2.0.0 in /usr/local/lib/python3.6/dist-packages (from google-auth>=1.4.1->google-api-python-client) (4.1.0)\n",
            "Requirement already satisfied: setuptools>=40.3.0 in /usr/local/lib/python3.6/dist-packages (from google-auth>=1.4.1->google-api-python-client) (47.1.1)\n",
            "Requirement already satisfied: pyasn1>=0.1.3 in /usr/local/lib/python3.6/dist-packages (from rsa<5,>=3.1.4; python_version >= \"3\"->google-auth>=1.4.1->google-api-python-client) (0.4.8)\n"
          ],
          "name": "stdout"
        }
      ]
    },
    {
      "cell_type": "code",
      "metadata": {
        "id": "5aDWD0xi6j5R",
        "colab_type": "code",
        "colab": {}
      },
      "source": [
        "CLIENT_SECRETS_FILE = \"client_secret.json\""
      ],
      "execution_count": 2,
      "outputs": []
    },
    {
      "cell_type": "code",
      "metadata": {
        "id": "UlKGoJYT6qpU",
        "colab_type": "code",
        "colab": {}
      },
      "source": [
        "SCOPES = ['https://www.googleapis.com/auth/youtube.force-ssl']\n",
        "API_SERVICE_NAME = 'youtube'\n",
        "API_VERSION = 'v3'"
      ],
      "execution_count": 3,
      "outputs": []
    },
    {
      "cell_type": "code",
      "metadata": {
        "id": "brudGgx16y04",
        "colab_type": "code",
        "colab": {}
      },
      "source": [
        "\n",
        "from googleapiclient.discovery import build\n",
        "from googleapiclient.errors import HttpError\n",
        "from google_auth_oauthlib.flow import InstalledAppFlow\n",
        "import os \n",
        " \n",
        "def get_authenticated_service():\n",
        "    flow = InstalledAppFlow.from_client_secrets_file(CLIENT_SECRETS_FILE, SCOPES)\n",
        "    credentials = flow.run_console()\n",
        "    return build(API_SERVICE_NAME, API_VERSION, credentials = credentials)"
      ],
      "execution_count": 4,
      "outputs": []
    },
    {
      "cell_type": "code",
      "metadata": {
        "id": "RDX-VueU7Crj",
        "colab_type": "code",
        "colab": {
          "base_uri": "https://localhost:8080/",
          "height": 361
        },
        "outputId": "f88174a4-5bbb-468a-ccf5-82e8964f8b4c"
      },
      "source": [
        "if __name__ == '__main__':\n",
        "    # When running locally, disable OAuthlib's HTTPs verification. When\n",
        "    # running in production *do not* leave this option enabled.\n",
        "    os.environ['OAUTHLIB_INSECURE_TRANSPORT'] = '1'\n",
        "    service = get_authenticated_service()"
      ],
      "execution_count": 5,
      "outputs": [
        {
          "output_type": "error",
          "ename": "FileNotFoundError",
          "evalue": "ignored",
          "traceback": [
            "\u001b[0;31m---------------------------------------------------------------------------\u001b[0m",
            "\u001b[0;31mFileNotFoundError\u001b[0m                         Traceback (most recent call last)",
            "\u001b[0;32m<ipython-input-5-a91ca5a1df37>\u001b[0m in \u001b[0;36m<module>\u001b[0;34m()\u001b[0m\n\u001b[1;32m      3\u001b[0m     \u001b[0;31m# running in production *do not* leave this option enabled.\u001b[0m\u001b[0;34m\u001b[0m\u001b[0;34m\u001b[0m\u001b[0;34m\u001b[0m\u001b[0m\n\u001b[1;32m      4\u001b[0m     \u001b[0mos\u001b[0m\u001b[0;34m.\u001b[0m\u001b[0menviron\u001b[0m\u001b[0;34m[\u001b[0m\u001b[0;34m'OAUTHLIB_INSECURE_TRANSPORT'\u001b[0m\u001b[0;34m]\u001b[0m \u001b[0;34m=\u001b[0m \u001b[0;34m'1'\u001b[0m\u001b[0;34m\u001b[0m\u001b[0;34m\u001b[0m\u001b[0m\n\u001b[0;32m----> 5\u001b[0;31m     \u001b[0mservice\u001b[0m \u001b[0;34m=\u001b[0m \u001b[0mget_authenticated_service\u001b[0m\u001b[0;34m(\u001b[0m\u001b[0;34m)\u001b[0m\u001b[0;34m\u001b[0m\u001b[0;34m\u001b[0m\u001b[0m\n\u001b[0m",
            "\u001b[0;32m<ipython-input-4-e8efa3f2f50c>\u001b[0m in \u001b[0;36mget_authenticated_service\u001b[0;34m()\u001b[0m\n\u001b[1;32m      6\u001b[0m \u001b[0;34m\u001b[0m\u001b[0m\n\u001b[1;32m      7\u001b[0m \u001b[0;32mdef\u001b[0m \u001b[0mget_authenticated_service\u001b[0m\u001b[0;34m(\u001b[0m\u001b[0;34m)\u001b[0m\u001b[0;34m:\u001b[0m\u001b[0;34m\u001b[0m\u001b[0;34m\u001b[0m\u001b[0m\n\u001b[0;32m----> 8\u001b[0;31m     \u001b[0mflow\u001b[0m \u001b[0;34m=\u001b[0m \u001b[0mInstalledAppFlow\u001b[0m\u001b[0;34m.\u001b[0m\u001b[0mfrom_client_secrets_file\u001b[0m\u001b[0;34m(\u001b[0m\u001b[0mCLIENT_SECRETS_FILE\u001b[0m\u001b[0;34m,\u001b[0m \u001b[0mSCOPES\u001b[0m\u001b[0;34m)\u001b[0m\u001b[0;34m\u001b[0m\u001b[0;34m\u001b[0m\u001b[0m\n\u001b[0m\u001b[1;32m      9\u001b[0m     \u001b[0mcredentials\u001b[0m \u001b[0;34m=\u001b[0m \u001b[0mflow\u001b[0m\u001b[0;34m.\u001b[0m\u001b[0mrun_console\u001b[0m\u001b[0;34m(\u001b[0m\u001b[0;34m)\u001b[0m\u001b[0;34m\u001b[0m\u001b[0;34m\u001b[0m\u001b[0m\n\u001b[1;32m     10\u001b[0m     \u001b[0;32mreturn\u001b[0m \u001b[0mbuild\u001b[0m\u001b[0;34m(\u001b[0m\u001b[0mAPI_SERVICE_NAME\u001b[0m\u001b[0;34m,\u001b[0m \u001b[0mAPI_VERSION\u001b[0m\u001b[0;34m,\u001b[0m \u001b[0mcredentials\u001b[0m \u001b[0;34m=\u001b[0m \u001b[0mcredentials\u001b[0m\u001b[0;34m)\u001b[0m\u001b[0;34m\u001b[0m\u001b[0;34m\u001b[0m\u001b[0m\n",
            "\u001b[0;32m/usr/local/lib/python3.6/dist-packages/google_auth_oauthlib/flow.py\u001b[0m in \u001b[0;36mfrom_client_secrets_file\u001b[0;34m(cls, client_secrets_file, scopes, **kwargs)\u001b[0m\n\u001b[1;32m    194\u001b[0m             \u001b[0mFlow\u001b[0m\u001b[0;34m:\u001b[0m \u001b[0mThe\u001b[0m \u001b[0mconstructed\u001b[0m \u001b[0mFlow\u001b[0m \u001b[0minstance\u001b[0m\u001b[0;34m.\u001b[0m\u001b[0;34m\u001b[0m\u001b[0;34m\u001b[0m\u001b[0m\n\u001b[1;32m    195\u001b[0m         \"\"\"\n\u001b[0;32m--> 196\u001b[0;31m         \u001b[0;32mwith\u001b[0m \u001b[0mopen\u001b[0m\u001b[0;34m(\u001b[0m\u001b[0mclient_secrets_file\u001b[0m\u001b[0;34m,\u001b[0m \u001b[0;34m'r'\u001b[0m\u001b[0;34m)\u001b[0m \u001b[0;32mas\u001b[0m \u001b[0mjson_file\u001b[0m\u001b[0;34m:\u001b[0m\u001b[0;34m\u001b[0m\u001b[0;34m\u001b[0m\u001b[0m\n\u001b[0m\u001b[1;32m    197\u001b[0m             \u001b[0mclient_config\u001b[0m \u001b[0;34m=\u001b[0m \u001b[0mjson\u001b[0m\u001b[0;34m.\u001b[0m\u001b[0mload\u001b[0m\u001b[0;34m(\u001b[0m\u001b[0mjson_file\u001b[0m\u001b[0;34m)\u001b[0m\u001b[0;34m\u001b[0m\u001b[0;34m\u001b[0m\u001b[0m\n\u001b[1;32m    198\u001b[0m \u001b[0;34m\u001b[0m\u001b[0m\n",
            "\u001b[0;31mFileNotFoundError\u001b[0m: [Errno 2] No such file or directory: 'client_secret.json'"
          ]
        }
      ]
    }
  ]
}