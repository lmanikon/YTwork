{
  "nbformat": 4,
  "nbformat_minor": 0,
  "metadata": {
    "colab": {
      "name": "Youtube data scrape.ipynb",
      "provenance": []
    },
    "kernelspec": {
      "name": "python3",
      "display_name": "Python 3"
    }
  },
  "cells": [
    {
      "cell_type": "code",
      "metadata": {
        "id": "Q4X6BL7jWzdT",
        "colab_type": "code",
        "colab": {
          "base_uri": "https://localhost:8080/",
          "height": 190
        },
        "outputId": "545a812d-63a7-43b7-ee06-e474346055d0"
      },
      "source": [
        "pip install youtube_transcript_api"
      ],
      "execution_count": 1,
      "outputs": [
        {
          "output_type": "stream",
          "text": [
            "Collecting youtube_transcript_api\n",
            "  Downloading https://files.pythonhosted.org/packages/21/81/c4ae5534b113f4938b482f360babbbe6fda550441a4af8e1007dba518586/youtube_transcript_api-0.3.1-py3-none-any.whl\n",
            "Requirement already satisfied: requests in /usr/local/lib/python3.6/dist-packages (from youtube_transcript_api) (2.23.0)\n",
            "Requirement already satisfied: certifi>=2017.4.17 in /usr/local/lib/python3.6/dist-packages (from requests->youtube_transcript_api) (2020.6.20)\n",
            "Requirement already satisfied: chardet<4,>=3.0.2 in /usr/local/lib/python3.6/dist-packages (from requests->youtube_transcript_api) (3.0.4)\n",
            "Requirement already satisfied: urllib3!=1.25.0,!=1.25.1,<1.26,>=1.21.1 in /usr/local/lib/python3.6/dist-packages (from requests->youtube_transcript_api) (1.24.3)\n",
            "Requirement already satisfied: idna<3,>=2.5 in /usr/local/lib/python3.6/dist-packages (from requests->youtube_transcript_api) (2.9)\n",
            "Installing collected packages: youtube-transcript-api\n",
            "Successfully installed youtube-transcript-api-0.3.1\n"
          ],
          "name": "stdout"
        }
      ]
    },
    {
      "cell_type": "code",
      "metadata": {
        "id": "i0iS01y_C03g",
        "colab_type": "code",
        "colab": {}
      },
      "source": [
        "import pandas as pd"
      ],
      "execution_count": 2,
      "outputs": []
    },
    {
      "cell_type": "code",
      "metadata": {
        "id": "LMKk_z0QrUnQ",
        "colab_type": "code",
        "colab": {}
      },
      "source": [
        "from youtube_transcript_api import YouTubeTranscriptApi\n",
        "YouTube_Transcript=YouTubeTranscriptApi.get_transcript(\"aircAruvnKk&feature=youtu.be\")#video ID"
      ],
      "execution_count": 5,
      "outputs": []
    },
    {
      "cell_type": "code",
      "metadata": {
        "id": "KIhufzfVCEL3",
        "colab_type": "code",
        "colab": {}
      },
      "source": [
        "YouTube_Transcript"
      ],
      "execution_count": null,
      "outputs": []
    },
    {
      "cell_type": "code",
      "metadata": {
        "id": "fq-6gndnC4Yc",
        "colab_type": "code",
        "colab": {}
      },
      "source": [
        "df = pd.DataFrame(trans) \n",
        "df.head(20)"
      ],
      "execution_count": null,
      "outputs": []
    },
    {
      "cell_type": "markdown",
      "metadata": {
        "id": "EyjmbIWpvHNG",
        "colab_type": "text"
      },
      "source": [
        "**Scraping other information from Youtube** "
      ]
    },
    {
      "cell_type": "code",
      "metadata": {
        "id": "zmZYxfU0vLpI",
        "colab_type": "code",
        "colab": {}
      },
      "source": [
        "import requests\n",
        "from bs4 import BeautifulSoup as bs"
      ],
      "execution_count": 7,
      "outputs": []
    },
    {
      "cell_type": "code",
      "metadata": {
        "id": "OFMlYAGAwhXy",
        "colab_type": "code",
        "colab": {
          "base_uri": "https://localhost:8080/",
          "height": 34
        },
        "outputId": "9b97fae9-6e13-4372-aaaa-6a12c601673b"
      },
      "source": [
        "# sample youtube video url\n",
        "video_url = \"https://www.youtube.com/watch?v=aircAruvnKk&feature=youtu.be\"\n",
        "# get the html content\n",
        "content = requests.get(video_url)\n",
        "# create bs object to parse HTML\n",
        "soup = bs(content.content, \"html.parser\")\n",
        "# write all HTML code into a file\n",
        "open(\"video.html\", \"w\", encoding='utf8').write(content.text)"
      ],
      "execution_count": 8,
      "outputs": [
        {
          "output_type": "execute_result",
          "data": {
            "text/plain": [
              "384515"
            ]
          },
          "metadata": {
            "tags": []
          },
          "execution_count": 8
        }
      ]
    },
    {
      "cell_type": "code",
      "metadata": {
        "id": "AYRHyJ3NPCV5",
        "colab_type": "code",
        "colab": {}
      },
      "source": [
        " result = {}"
      ],
      "execution_count": 10,
      "outputs": []
    },
    {
      "cell_type": "code",
      "metadata": {
        "id": "T-OGso8ovZ5j",
        "colab_type": "code",
        "colab": {
          "base_uri": "https://localhost:8080/",
          "height": 35
        },
        "outputId": "a9fc684b-bf69-48fa-fee3-1aa6e3c5aefa"
      },
      "source": [
        "  # video title\n",
        "result['title'] = soup.find(\"span\", attrs={\"class\": \"watch-title\"}).text.strip()\n",
        "result['title']"
      ],
      "execution_count": 11,
      "outputs": [
        {
          "output_type": "execute_result",
          "data": {
            "application/vnd.google.colaboratory.intrinsic": {
              "type": "string"
            },
            "text/plain": [
              "'But what is a Neural Network? | Deep learning, chapter 1'"
            ]
          },
          "metadata": {
            "tags": []
          },
          "execution_count": 11
        }
      ]
    },
    {
      "cell_type": "code",
      "metadata": {
        "id": "Krj5xU74vZ_K",
        "colab_type": "code",
        "colab": {
          "base_uri": "https://localhost:8080/",
          "height": 34
        },
        "outputId": "bfc21a21-0886-47b5-ba1b-ac308880c671"
      },
      "source": [
        " # video views (converted to integer)\n",
        "result['views'] = int(soup.find(\"div\", attrs={\"class\": \"watch-view-count\"}).text[:-6].replace(\",\", \"\"))\n",
        "result['views']"
      ],
      "execution_count": 12,
      "outputs": [
        {
          "output_type": "execute_result",
          "data": {
            "text/plain": [
              "7223298"
            ]
          },
          "metadata": {
            "tags": []
          },
          "execution_count": 12
        }
      ]
    },
    {
      "cell_type": "code",
      "metadata": {
        "id": "mHlqSH3OvaC3",
        "colab_type": "code",
        "colab": {}
      },
      "source": [
        " # video description\n",
        "result['description'] = soup.find(\"p\", attrs={\"id\": \"eow-description\"}).text\n",
        "result['description']"
      ],
      "execution_count": null,
      "outputs": []
    },
    {
      "cell_type": "code",
      "metadata": {
        "id": "oOrR7EfnvaJN",
        "colab_type": "code",
        "colab": {}
      },
      "source": [
        "# number of likes as integer\n",
        "result['likes'] = int(soup.find(\"button\", attrs={\"title\": \"I like this\"}).text.replace(\",\", \"\"))\n",
        "# number of dislikes as integer\n",
        "result['dislikes'] = int(soup.find(\"button\", attrs={\"title\": \"I dislike this\"}).text.replace(\",\", \"\"))"
      ],
      "execution_count": 14,
      "outputs": []
    },
    {
      "cell_type": "code",
      "metadata": {
        "id": "j13f7UFYvaMi",
        "colab_type": "code",
        "colab": {
          "base_uri": "https://localhost:8080/",
          "height": 51
        },
        "outputId": "c5f50936-b767-4f18-802f-b103e3d8c6ea"
      },
      "source": [
        "print(\"the numer of upvote is\", (result['likes']))\n",
        "print(\"the numer of downvotes is\", (result['dislikes']))"
      ],
      "execution_count": 15,
      "outputs": [
        {
          "output_type": "stream",
          "text": [
            "the numer of upvote is 184310\n",
            "the numer of downvotes is 1670\n"
          ],
          "name": "stdout"
        }
      ]
    },
    {
      "cell_type": "code",
      "metadata": {
        "id": "SYGX3OW-W621",
        "colab_type": "code",
        "colab": {}
      },
      "source": [
        ""
      ],
      "execution_count": null,
      "outputs": []
    },
    {
      "cell_type": "code",
      "metadata": {
        "id": "fKpaJbL-W7Bj",
        "colab_type": "code",
        "colab": {}
      },
      "source": [
        ""
      ],
      "execution_count": null,
      "outputs": []
    }
  ]
}